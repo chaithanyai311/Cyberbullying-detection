{
 "cells": [
  {
   "cell_type": "code",
   "execution_count": 4,
   "id": "8277c73b",
   "metadata": {},
   "outputs": [],
   "source": [
    "\n",
    "\n",
    "# importing libraries\n",
    "\n",
    "from ctypes import alignment\n",
    "from urllib import response\n",
    "import pandas as pd\n",
    "import streamlit as st\n",
    "import altair as alt\n",
    "from PIL import Image\n",
    "import pandas as pd\n",
    "import numpy as np\n",
    "import re\n",
    "import string\n",
    "from nltk.stem import WordNetLemmatizer\n",
    "from sklearn.model_selection import train_test_split\n",
    "from sklearn.svm import SVC\n",
    "from sklearn.feature_extraction.text import TfidfVectorizer\n",
    "from sklearn.preprocessing import LabelEncoder\n",
    "from nltk.tokenize import RegexpTokenizer\n",
    "from nltk import PorterStemmer, WordNetLemmatizer\n",
    "\n",
    "import pickle\n",
    "\n"
   ]
  },
  {
   "cell_type": "code",
   "execution_count": 5,
   "id": "751875ee",
   "metadata": {},
   "outputs": [],
   "source": [
    "\n",
    "from functions import *"
   ]
  },
  {
   "cell_type": "code",
   "execution_count": 6,
   "id": "af0406a5",
   "metadata": {},
   "outputs": [
    {
     "name": "stdout",
     "output_type": "stream",
     "text": [
      "\n"
     ]
    }
   ],
   "source": [
    "# Page title\n",
    "\n",
    "#image = Image.open('images/logo.png')\n",
    "\n",
    "#st.image(image, use_column_width= True)\n",
    "\n",
    "st.write('''\n",
    "# Cyberbulling Tweet Recognition App\n",
    "This app predicts the nature of the tweet into 6 Categories.\n",
    "* Age\n",
    "* Ethnicity\n",
    "* Gender\n",
    "* Religion\n",
    "* Other Cyberbullying\n",
    "* Not Cyberbullying\n",
    "***\n",
    "''')\n",
    "\n",
    "\n",
    "# Text Box\n",
    "st.header('Enter Tweet ')\n",
    "tweet_input = st.text_area(\"Tweet Input\", height= 150)\n",
    "print(tweet_input)\n",
    "st.write('''\n",
    "***\n",
    "''')\n",
    "\n",
    "# print input on webpage\n",
    "st.header(\"Entered Tweet text \")\n",
    "if tweet_input:\n",
    "    tweet_input\n",
    "else:\n",
    "    st.write('''\n",
    "    ***No Tweet Text Entered!***\n",
    "    ''')\n",
    "st.write('''\n",
    "***\n",
    "''')\n",
    "\n",
    "# Output on the page\n",
    "st.header(\"Prediction\")\n",
    "if tweet_input:\n",
    "    prediction = custom_input_prediction(tweet_input)\n",
    "    if prediction == \"not bully\":\n",
    "        st.write('''\n",
    "    not bully\n",
    "    ''')\n",
    "    elif prediction == \"bully\":\n",
    "        st.write('''\n",
    "    bully\n",
    "    ''')\n",
    "else:\n",
    "    st.write('''\n",
    "    ***No Tweet Text Entered!***\n",
    "    ''')\n",
    "\n",
    "st.write('''***''')"
   ]
  },
  {
   "cell_type": "code",
   "execution_count": null,
   "id": "f39bff74",
   "metadata": {},
   "outputs": [],
   "source": []
  },
  {
   "cell_type": "code",
   "execution_count": 10,
   "id": "19a3881d",
   "metadata": {},
   "outputs": [
    {
     "name": "stdout",
     "output_type": "stream",
     "text": [
      "\n"
     ]
    }
   ],
   "source": []
  },
  {
   "cell_type": "code",
   "execution_count": null,
   "id": "8e59fef7",
   "metadata": {},
   "outputs": [],
   "source": []
  }
 ],
 "metadata": {
  "kernelspec": {
   "display_name": "Python 3 (ipykernel)",
   "language": "python",
   "name": "python3"
  },
  "language_info": {
   "codemirror_mode": {
    "name": "ipython",
    "version": 3
   },
   "file_extension": ".py",
   "mimetype": "text/x-python",
   "name": "python",
   "nbconvert_exporter": "python",
   "pygments_lexer": "ipython3",
   "version": "3.11.1"
  }
 },
 "nbformat": 4,
 "nbformat_minor": 5
}
